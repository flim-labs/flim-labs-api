{
  "nbformat": 4,
  "nbformat_minor": 0,
  "metadata": {
    "colab": {
      "provenance": []
    },
    "kernelspec": {
      "name": "python3",
      "display_name": "Python 3"
    },
    "language_info": {
      "name": "python"
    }
  },
  "cells": [
    {
      "cell_type": "code",
      "execution_count": null,
      "metadata": {
        "id": "1OlsY1f1KqoG"
      },
      "outputs": [],
      "source": [
        "#load the recorded .npz file for spectroscopy and extract time_bins and counts\n",
        "\n",
        "import numpy as np\n",
        "b = np.load('spectroscopy.npz')\n",
        "x = np.reshape(b['arr_0'], (256,1))\n",
        "y = np.reshape(b['arr_1'], (256,1))\n",
        "data =  np.concatenate((x, y),axis=1)"
      ]
    },
    {
      "cell_type": "code",
      "source": [
        "#define a method to calculate the SNR of the recorded TCSPC histogram. The histogram data are contained in the second column of matrix data.\n",
        "def compute_SNR(y):\n",
        "  signal = np.mean(y)\n",
        "  noise = np.std(y)\n",
        "  return 10 * np.log10(signal / noise)\n",
        "\n",
        "compute_SNR(data[:,1])"
      ],
      "metadata": {
        "id": "jlqhRnbGLK7W"
      },
      "execution_count": null,
      "outputs": []
    },
    {
      "cell_type": "code",
      "source": [
        "# convert the data into a Pandas dataframe with 2 columns, one for time_bin and one for photon_counts in each time_bin. Calculate the maximum photon counts and the correspondent time bin and show the results.\n",
        "import pandas as pd\n",
        "df = pd.DataFrame(data, columns=['Time_bin', 'Counts']) \n",
        "max= np.max(df['Counts'])          \n",
        "max_index = np.argmax(df['Counts'])  \n",
        "print(max)\n",
        "print(max_index)"
      ],
      "metadata": {
        "id": "39PWNQ_gL65G"
      },
      "execution_count": null,
      "outputs": []
    },
    {
      "cell_type": "code",
      "source": [
        "#convert the pandas DataFrame into an .xlsx file you can open in Excel\n",
        "import openpyxl\n",
        "df.to_excel(\"output.xlsx\")  "
      ],
      "metadata": {
        "id": "VTNzk2OcMb03"
      },
      "execution_count": null,
      "outputs": []
    }
  ]
}