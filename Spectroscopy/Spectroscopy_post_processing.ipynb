#load the recorded .npz file for spectroscopy and extract time_bins and counts

import numpy as np
b = np.load('spectroscopy.npz')
x = np.reshape(b['arr_0'], (256,1))
y = np.reshape(b['arr_1'], (256,1))
data =  np.concatenate((x, y),axis=1)

#define a method to calculate the SNR of the recorded TCSPC histogram. The histogram data are contained in the second column of matrix data.
def compute_SNR(y):
  signal = np.mean(y)
  noise = np.std(y)
  return 10 * np.log10(signal / noise)

compute_SNR(data[:,1])

# convert the data into a Pandas dataframe with 2 columns, one for time_bin and one for photon_counts in each time_bin. Calculate the maximum photon counts and the correspondent time bin and show the results.
import pandas as pd
df = pd.DataFrame(data, columns=['Time_bin', 'Counts']) 
max= np.max(df['Counts'])          
max_index = np.argmax(df['Counts'])  
print(max)
print(max_index)

#convert the pandas DataFrame into an .xlsx file you can open in Excel
import openpyxl
df.to_excel("output.xlsx")  